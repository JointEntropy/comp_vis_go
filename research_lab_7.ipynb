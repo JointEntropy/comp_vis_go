{
 "cells": [
  {
   "cell_type": "code",
   "execution_count": 1,
   "metadata": {},
   "outputs": [
    {
     "name": "stdout",
     "output_type": "stream",
     "text": [
      "Populating the interactive namespace from numpy and matplotlib\n"
     ]
    }
   ],
   "source": [
    "%pylab inline"
   ]
  },
  {
   "cell_type": "code",
   "execution_count": 167,
   "metadata": {},
   "outputs": [
    {
     "data": {
      "text/plain": [
       "array([0., 1.], dtype=float32)"
      ]
     },
     "execution_count": 167,
     "metadata": {},
     "output_type": "execute_result"
    }
   ],
   "source": [
    "from PIL import Image\n",
    "t = np.zeros(shape=(300, 300))\n",
    "\n",
    "\n",
    "t[1:30, 1:30] = 255\n",
    "t[50:100, 50:100] = 255\n",
    "\n",
    "t[225:250, 225:250] = 255\n",
    "t[240:260, 240:260] = 255\n",
    "\n",
    "# plt.imshow(np.stack([t,t,t]).transpose([1,2,0]))\n",
    "# plt.imshow(t, cmap='gray')\n",
    "# np.stack(t[:,:, None], axis=1).shape\n",
    "pl_img = Image.fromarray(t)\n",
    "# plt.imshow(pl_img)\n",
    "pl_img.convert('L').save('images/synt.png')\n",
    "# figr.savefig('synt.jpg')\n",
    "# plt.savefig()\n",
    "np.unique(plt.imread('images/synt.png'))"
   ]
  },
  {
   "cell_type": "markdown",
   "metadata": {},
   "source": [
    "Sanity check for 4-d areas labeling"
   ]
  },
  {
   "cell_type": "code",
   "execution_count": 225,
   "metadata": {},
   "outputs": [
    {
     "name": "stdout",
     "output_type": "stream",
     "text": [
      "(300, 300, 3)\n"
     ]
    },
    {
     "data": {
      "text/plain": [
       "<matplotlib.image.AxesImage at 0x7f58f5d6cda0>"
      ]
     },
     "execution_count": 225,
     "metadata": {},
     "output_type": "execute_result"
    },
    {
     "data": {
      "image/png": "[encoded data removed]",
      "text/plain": [
       "<Figure size 432x288 with 1 Axes>"
      ]
     },
     "metadata": {
      "needs_background": "light"
     },
     "output_type": "display_data"
    }
   ],
   "source": [
    "# img = plt.imread('output/synt.png')#\n",
    "img = plt.imread('output/sectors4d.png')\n",
    "img = (img/img.max() * 255).astype(int)\n",
    "import pandas as pd\n",
    "plt.imshow(img)\n",
    "# print(np.unique(img))\n",
    "idxs, _ = np.unique(img, return_counts=True)\n",
    "res_colored = np.zeros(shape=(*img.shape,3) ).astype(int)\n",
    "print(res_colored.shape)\n",
    "for idx in idxs:\n",
    "    random_color = np.random.randint(255, size=(3,)).astype(int)\n",
    "    mask = img == idx\n",
    "    res_colored[mask] = random_color\n",
    "plt.imshow(res_colored)"
   ]
  },
  {
   "cell_type": "code",
   "execution_count": 11,
   "metadata": {},
   "outputs": [
    {
     "data": {
      "text/plain": [
       "(array([  0,   1,   2,   3,   4,   5,   6,   7,   8,   9,  10,  11,  12,\n",
       "         13,  14,  15,  16,  17,  18,  19,  20,  21,  22,  23,  32, 230,\n",
       "        234, 236, 238, 239, 240, 241, 242, 243, 244, 245, 246, 247, 248,\n",
       "        249, 250, 251, 252, 253, 254, 255], dtype=uint8),\n",
       " array([213464,    455,    518,    424,     17,     19,      8,      8,\n",
       "            15,     13,      7,      4,      7,      4,      4,      5,\n",
       "             2,      4,      3,      5,      2,      3,      1,      1,\n",
       "             1,      1,      2,      1,      2,      2,      3,      5,\n",
       "             2,      6,      2,      4,      8,      6,     10,      9,\n",
       "             8,    224,    237,    532,    748,  39194]))"
      ]
     },
     "execution_count": 11,
     "metadata": {},
     "output_type": "execute_result"
    }
   ],
   "source": []
  }
 ],
 "metadata": {
  "kernelspec": {
   "display_name": "Python 3",
   "language": "python",
   "name": "python3"
  },
  "language_info": {
   "codemirror_mode": {
    "name": "ipython",
    "version": 3
   },
   "file_extension": ".py",
   "mimetype": "text/x-python",
   "name": "python",
   "nbconvert_exporter": "python",
   "pygments_lexer": "ipython3",
   "version": "3.7.3"
  }
 },
 "nbformat": 4,
 "nbformat_minor": 2
}
